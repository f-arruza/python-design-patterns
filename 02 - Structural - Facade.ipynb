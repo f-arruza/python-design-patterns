{
 "cells": [
  {
   "cell_type": "code",
   "execution_count": null,
   "metadata": {},
   "outputs": [],
   "source": [
    "class Facade:\n",
    "    def __init__(self, subsystem1: Subsystem1, subsystem2: Subsystem2) -> None:\n",
    "        self._subsystem1 = subsystem1 or Subsystem1()\n",
    "        self._subsystem2 = subsystem2 or Subsystem2()\n",
    "\n",
    "    def operation(self) -> str:\n",
    "        results = []\n",
    "        results.append(\"Facade initializes subsystems:\")\n",
    "        results.append(self._subsystem1.operation1())\n",
    "        results.append(self._subsystem2.operation1())\n",
    "        results.append(\"Facade orders subsystems to perform the action:\")\n",
    "        results.append(self._subsystem1.operation_n())\n",
    "        results.append(self._subsystem2.operation_z())\n",
    "        return \"\\n\".join(results)\n",
    "\n",
    "\n",
    "class Subsystem1:\n",
    "    def operation1(self) -> str:\n",
    "        return \"Subsystem1: Ready!\"\n",
    "\n",
    "    # ...\n",
    "\n",
    "    def operation_n(self) -> str:\n",
    "        return \"Subsystem1: Go!\"\n",
    "\n",
    "\n",
    "class Subsystem2:\n",
    "    def operation1(self) -> str:\n",
    "        return \"Subsystem2: Get ready!\"\n",
    "\n",
    "    # ...\n",
    "\n",
    "    def operation_z(self) -> str:\n",
    "        return \"Subsystem2: Fire!\"\n",
    "\n",
    "\n",
    "def client_code(facade: Facade) -> None:\n",
    "    print(facade.operation(), end=\"\")\n",
    "\n",
    "\n",
    "if __name__ == \"__main__\":\n",
    "    # The client code may have some of the subsystem's objects already created.\n",
    "    # In this case, it might be worthwhile to initialize the Facade with these\n",
    "    # objects instead of letting the Facade create new instances.\n",
    "    subsystem1 = Subsystem1()\n",
    "    subsystem2 = Subsystem2()\n",
    "    facade = Facade(subsystem1, subsystem2)\n",
    "    client_code(facade)\n"
   ]
  },
  {
   "cell_type": "markdown",
   "metadata": {},
   "source": [
    "from IPython.display import Image\n",
    "Image(filename='decorators.jpg')"
   ]
  },
  {
   "cell_type": "code",
   "execution_count": null,
   "metadata": {},
   "outputs": [],
   "source": []
  }
 ],
 "metadata": {
  "kernelspec": {
   "display_name": "Python 3",
   "language": "python",
   "name": "python3"
  },
  "language_info": {
   "codemirror_mode": {
    "name": "ipython",
    "version": 3
   },
   "file_extension": ".py",
   "mimetype": "text/x-python",
   "name": "python",
   "nbconvert_exporter": "python",
   "pygments_lexer": "ipython3",
   "version": "3.7.5"
  }
 },
 "nbformat": 4,
 "nbformat_minor": 4
}
