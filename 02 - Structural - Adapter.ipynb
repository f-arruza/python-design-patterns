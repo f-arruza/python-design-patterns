{
 "cells": [
  {
   "cell_type": "code",
   "execution_count": 5,
   "metadata": {},
   "outputs": [
    {
     "name": "stdout",
     "output_type": "stream",
     "text": [
      "Target: The default target's behavior.\n",
      "Adapter: (TRANSLATED) Special behavior of the Adaptee.\n"
     ]
    }
   ],
   "source": [
    "class Target():\n",
    "    def request(self) -> str:\n",
    "        return \"Target: The default target's behavior.\"\n",
    "\n",
    "\n",
    "class Adaptee:\n",
    "    def specific_request(self) -> str:\n",
    "        return \".eetpadA eht fo roivaheb laicepS\"\n",
    "\n",
    "\n",
    "class Adapter(Target):\n",
    "    def __init__(self, adaptee: Adaptee) -> None:\n",
    "        self.adaptee = adaptee\n",
    "\n",
    "    def request(self) -> str:\n",
    "        return f\"Adapter: (TRANSLATED) {self.adaptee.specific_request()[::-1]}\"\n",
    "\n",
    "\n",
    "\n",
    "if __name__ == \"__main__\":\n",
    "    target = Target()\n",
    "\n",
    "    adaptee = Adaptee()\n",
    "    adapter = Adapter(adaptee)\n",
    "\n",
    "    results = [target, adapter]\n",
    "    for obj in results:\n",
    "        print(obj.request())\n"
   ]
  },
  {
   "cell_type": "code",
   "execution_count": null,
   "metadata": {},
   "outputs": [],
   "source": []
  }
 ],
 "metadata": {
  "kernelspec": {
   "display_name": "Python 3",
   "language": "python",
   "name": "python3"
  },
  "language_info": {
   "codemirror_mode": {
    "name": "ipython",
    "version": 3
   },
   "file_extension": ".py",
   "mimetype": "text/x-python",
   "name": "python",
   "nbconvert_exporter": "python",
   "pygments_lexer": "ipython3",
   "version": "3.7.5"
  }
 },
 "nbformat": 4,
 "nbformat_minor": 4
}
