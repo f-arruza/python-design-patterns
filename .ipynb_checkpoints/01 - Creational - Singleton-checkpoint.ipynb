{
 "cells": [
  {
   "cell_type": "code",
   "execution_count": 4,
   "metadata": {},
   "outputs": [
    {
     "name": "stdout",
     "output_type": "stream",
     "text": [
      "Singleton works, both variables contain the same instance.\n",
      "\n",
      "\n",
      "\n",
      "2020-04-15 19:42:33.236010\n",
      "2020-04-15 19:42:33.236076\n",
      "Esperando 3 segundos... \n",
      "\n",
      "2020-04-15 19:42:33.236010\n",
      "2020-04-15 19:42:36.239394\n"
     ]
    }
   ],
   "source": [
    "from time import sleep\n",
    "from typing import Optional\n",
    "from datetime import datetime\n",
    "\n",
    "\n",
    "class SingletonMeta(type):\n",
    "    _instance: Optional[Singleton] = None\n",
    "\n",
    "    def __call__(self) -> Singleton:\n",
    "        if self._instance is None:\n",
    "            self._instance = super().__call__()\n",
    "        return self._instance\n",
    "\n",
    "\n",
    "class Singleton(metaclass=SingletonMeta):\n",
    "    def some_business_logic(self):\n",
    "        pass\n",
    "\n",
    "class TimeSingleton(metaclass=SingletonMeta):\n",
    "    def __init__(self):\n",
    "        self.now_cls = datetime.utcnow()\n",
    "    \n",
    "    def now_method(self):\n",
    "        return datetime.utcnow()\n",
    "\n",
    "if __name__ == \"__main__\":\n",
    "    s1 = Singleton()\n",
    "    s2 = Singleton()\n",
    "\n",
    "    if id(s1) == id(s2) and s1 is s2:\n",
    "        print(\"Singleton works, both variables contain the same instance.\")\n",
    "    else:\n",
    "        print(\"Singleton failed, variables contain different instances.\")\n",
    "\n",
    "    print(\"\\n\\n\")\n",
    "    s3 = TimeSingleton()\n",
    "    print(s3.now_cls)\n",
    "    print(s3.now_method())\n",
    "\n",
    "    print(\"Esperando 3 segundos... \\n\")\n",
    "    sleep(3)\n",
    "\n",
    "    s4 = TimeSingleton()\n",
    "    print(s4.now_cls)\n",
    "    print(s4.now_method())\n",
    "    \n"
   ]
  },
  {
   "cell_type": "code",
   "execution_count": null,
   "metadata": {},
   "outputs": [],
   "source": []
  }
 ],
 "metadata": {
  "kernelspec": {
   "display_name": "Python 3",
   "language": "python",
   "name": "python3"
  },
  "language_info": {
   "codemirror_mode": {
    "name": "ipython",
    "version": 3
   },
   "file_extension": ".py",
   "mimetype": "text/x-python",
   "name": "python",
   "nbconvert_exporter": "python",
   "pygments_lexer": "ipython3",
   "version": "3.7.5"
  }
 },
 "nbformat": 4,
 "nbformat_minor": 4
}
