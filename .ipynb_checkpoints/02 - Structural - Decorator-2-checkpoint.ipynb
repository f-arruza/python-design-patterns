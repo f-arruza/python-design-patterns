{
 "cells": [
  {
   "cell_type": "code",
   "execution_count": 9,
   "metadata": {},
   "outputs": [
    {
     "name": "stdout",
     "output_type": "stream",
     "text": [
      "wrapper\n",
      "my_decorator_one(Hola Mundo!)\n",
      "\n",
      "\n",
      "wrapper\n",
      "my_decorator_two(my_decorator_one(ლ༼>╭ ͟ʖ╮<༽ლ))\n",
      "\n",
      "\n",
      "magic\n",
      "my_decorator_two(╰( ͡° ͜ʖ ͡° )つ──☆*:・ﾟ)\n"
     ]
    }
   ],
   "source": [
    "import functools\n",
    "\n",
    "\n",
    "def my_decorator_one(func):\n",
    "    def wrapper(*args, **kwargs):        \n",
    "        prev_op = \"my_decorator_one(\"\n",
    "        mid_op = func(*args, **kwargs)\n",
    "        next_op = \")\"\n",
    "        return prev_op + mid_op + next_op\n",
    "    return wrapper\n",
    "\n",
    "\n",
    "\n",
    "def my_decorator_two(func):\n",
    "    @functools.wraps(func)\n",
    "    def wrapper(*args, **kwargs):        \n",
    "        prev_op = \"my_decorator_two(\"\n",
    "        mid_op = func(*args, **kwargs)\n",
    "        next_op = \")\"\n",
    "        return prev_op + mid_op + next_op\n",
    "    return wrapper\n",
    "\n",
    "\n",
    "@my_decorator_one\n",
    "def greet():\n",
    "    return \"Hola Mundo!\"\n",
    "\n",
    "@my_decorator_two\n",
    "@my_decorator_one\n",
    "def emoji():\n",
    "    return \"ლ༼>╭ ͟ʖ╮<༽ლ\"\n",
    "\n",
    "@my_decorator_two\n",
    "def magic():\n",
    "    return \"╰( ͡° ͜ʖ ͡° )つ──☆*:・ﾟ\"\n",
    "\n",
    "\n",
    "if __name__ == \"__main__\":\n",
    "    print(\"Function Name: \", greet.__name__)\n",
    "    print(greet())\n",
    "    print(\"\\n\")\n",
    "    print(emoji.__name__)\n",
    "    print(emoji())\n",
    "    print(\"\\n\")\n",
    "    print(magic.__name__)\n",
    "    print(magic())\n",
    "    \n"
   ]
  },
  {
   "cell_type": "code",
   "execution_count": null,
   "metadata": {},
   "outputs": [],
   "source": []
  }
 ],
 "metadata": {
  "kernelspec": {
   "display_name": "Python 3",
   "language": "python",
   "name": "python3"
  },
  "language_info": {
   "codemirror_mode": {
    "name": "ipython",
    "version": 3
   },
   "file_extension": ".py",
   "mimetype": "text/x-python",
   "name": "python",
   "nbconvert_exporter": "python",
   "pygments_lexer": "ipython3",
   "version": "3.7.5"
  }
 },
 "nbformat": 4,
 "nbformat_minor": 4
}
