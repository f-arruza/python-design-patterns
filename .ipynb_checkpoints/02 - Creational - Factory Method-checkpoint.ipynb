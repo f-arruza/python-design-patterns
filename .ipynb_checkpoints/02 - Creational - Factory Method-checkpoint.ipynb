{
 "cells": [
  {
   "cell_type": "markdown",
   "metadata": {},
   "source": [
    "# Factory Method Pattern"
   ]
  },
  {
   "cell_type": "code",
   "execution_count": null,
   "metadata": {},
   "outputs": [],
   "source": [
    "from abc import ABC, abstractmethod\n",
    "from typing import List\n",
    "\n",
    "\n",
    "class Product(ABC):\n",
    "    def save(self):\n",
    "        print(\"DB persisted!\")\n",
    "\n",
    "\n",
    "class UserProduct(Product):\n",
    "    def __repr__(self) -> str:\n",
    "        return \"{Result of the UserProduct}\"\n",
    "\n",
    "\n",
    "class GroupProduct(Product):\n",
    "    def __repr__(self) -> str:\n",
    "        return \"{Result of the GroupProduct}\"\n",
    "\n",
    "\n",
    "class Creator(ABC):\n",
    "    @abstractmethod\n",
    "    def factory_method(self):\n",
    "        pass\n",
    "\n",
    "    def create(self) -> Product:\n",
    "        product = self.factory_method()\n",
    "        product.save()\n",
    "        return product\n",
    "    \n",
    "    def create_batch(self, num) -> List[Product]:\n",
    "        result = []\n",
    "        for i in range(num):\n",
    "            product = self.factory_method()\n",
    "            product.save()\n",
    "            result.append(product)\n",
    "        return result\n",
    "\n",
    "\n",
    "class UserCreator(Creator):\n",
    "    def factory_method(self) -> UserProduct:\n",
    "        return UserProduct()\n",
    "\n",
    "\n",
    "class GroupCreator(Creator):\n",
    "    def factory_method(self) -> GroupProduct:\n",
    "        return GroupProduct()\n",
    "\n",
    "\n",
    "if __name__ == \"__main__\":\n",
    "    print(\"App: Launched with the UserCreator.\")\n",
    "    print(UserCreator().create())\n",
    "    print(\"\\n\")\n",
    "\n",
    "    print(UserCreator().create_batch(10))\n",
    "    print(\"\\n\")\n",
    "\n",
    "    print(\"App: Launched with the GroupCreator.\")\n",
    "    print(GroupCreator().create())\n",
    "    print(\"\\n\")\n",
    "    \n",
    "    print(GroupCreator().create_batch(10))\n"
   ]
  },
  {
   "cell_type": "code",
   "execution_count": null,
   "metadata": {},
   "outputs": [],
   "source": []
  }
 ],
 "metadata": {
  "kernelspec": {
   "display_name": "Python 3",
   "language": "python",
   "name": "python3"
  },
  "language_info": {
   "codemirror_mode": {
    "name": "ipython",
    "version": 3
   },
   "file_extension": ".py",
   "mimetype": "text/x-python",
   "name": "python",
   "nbconvert_exporter": "python",
   "pygments_lexer": "ipython3",
   "version": "3.7.5"
  }
 },
 "nbformat": 4,
 "nbformat_minor": 4
}
