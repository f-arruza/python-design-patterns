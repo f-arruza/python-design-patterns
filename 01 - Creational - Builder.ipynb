{
 "cells": [
  {
   "cell_type": "markdown",
   "metadata": {
    "slideshow": {
     "slide_type": "slide"
    }
   },
   "source": [
    "# Builder Pattern"
   ]
  },
  {
   "cell_type": "code",
   "execution_count": 3,
   "metadata": {},
   "outputs": [
    {
     "name": "stdout",
     "output_type": "stream",
     "text": [
      "Standard basic product: \n",
      "Product parts: Wood Door, Windows, Stone Walls\n",
      "\n",
      "Standard full featured product: \n",
      "Product parts: Wood Door, Windows, Stone Walls, Big Garage, Huge swimming pool\n",
      "\n",
      "Custom product: \n",
      "Product parts: Wood Door, Stone Walls"
     ]
    }
   ],
   "source": [
    "from abc import ABC, abstractmethod, abstractproperty\n",
    "from typing import Any\n",
    "\n",
    "\n",
    "class HouseProduct():\n",
    "    def __init__(self) -> None:\n",
    "        self.parts = []\n",
    "\n",
    "    def add(self, part: Any) -> None:\n",
    "        self.parts.append(part)\n",
    "\n",
    "    def list_parts(self) -> None:\n",
    "        print(f\"Product parts: {', '.join(self.parts)}\", end=\"\")\n",
    "\n",
    "\n",
    "class Builder(ABC):\n",
    "    @abstractproperty\n",
    "    def product(self) -> None:\n",
    "        pass\n",
    "\n",
    "    @abstractmethod\n",
    "    def produce_door(self) -> None:\n",
    "        pass\n",
    "\n",
    "    @abstractmethod\n",
    "    def produce_windows(self) -> None:\n",
    "        pass\n",
    "\n",
    "    @abstractmethod\n",
    "    def produce_walls(self) -> None:\n",
    "        pass\n",
    "\n",
    "    @abstractmethod\n",
    "    def produce_garage(self) -> None:\n",
    "        pass\n",
    "\n",
    "    @abstractmethod\n",
    "    def produce_pool(self) -> None:\n",
    "        pass\n",
    "\n",
    "\n",
    "class StoneHouseBuilder(Builder):\n",
    "    def __init__(self) -> None:\n",
    "        self.reset()\n",
    "\n",
    "    def reset(self) -> None:\n",
    "        self._product = HouseProduct()\n",
    "\n",
    "    @property\n",
    "    def product(self) -> HouseProduct:\n",
    "        product = self._product\n",
    "        self.reset()\n",
    "        return product\n",
    "\n",
    "    def produce_door(self) -> None:\n",
    "        self._product.add(\"Wood Door\")\n",
    "\n",
    "    def produce_windows(self) -> None:\n",
    "        self._product.add(\"Windows\")\n",
    "\n",
    "    def produce_walls(self) -> None:\n",
    "        self._product.add(\"Stone Walls\")\n",
    "\n",
    "    def produce_garage(self) -> None:\n",
    "        self._product.add(\"Big Garage\")\n",
    "\n",
    "    def produce_pool(self) -> None:\n",
    "        self._product.add(\"Huge swimming pool\")\n",
    "\n",
    "\n",
    "class Director:\n",
    "    def __init__(self) -> None:\n",
    "        self._builder = None\n",
    "\n",
    "    @property\n",
    "    def builder(self) -> Builder:\n",
    "        return self._builder\n",
    "\n",
    "    @builder.setter\n",
    "    def builder(self, builder: Builder) -> None:\n",
    "        self._builder = builder\n",
    "\n",
    "    def build_minimal_viable_product(self) -> None:\n",
    "        self.builder.produce_door()\n",
    "        self.builder.produce_windows()\n",
    "        self.builder.produce_walls()\n",
    "\n",
    "    def build_full_featured_product(self) -> None:\n",
    "        self.builder.produce_door()\n",
    "        self.builder.produce_windows()\n",
    "        self.builder.produce_walls()\n",
    "        self.builder.produce_garage()\n",
    "        self.builder.produce_pool()\n",
    "\n",
    "\n",
    "if __name__ == \"__main__\":\n",
    "    director = Director()\n",
    "    builder = StoneHouseBuilder()\n",
    "    director.builder = builder\n",
    "\n",
    "    print(\"Standard basic product: \")\n",
    "    director.build_minimal_viable_product()\n",
    "    builder.product.list_parts()\n",
    "    print(\"\\n\")\n",
    "\n",
    "    print(\"Standard full featured product: \")\n",
    "    director.build_full_featured_product()\n",
    "    builder.product.list_parts()\n",
    "    print(\"\\n\")\n",
    "\n",
    "    print(\"Custom product: \")\n",
    "    builder.produce_door()\n",
    "    builder.produce_walls()\n",
    "    builder.product.list_parts()"
   ]
  },
  {
   "cell_type": "code",
   "execution_count": null,
   "metadata": {},
   "outputs": [],
   "source": []
  }
 ],
 "metadata": {
  "celltoolbar": "Slideshow",
  "kernelspec": {
   "display_name": "Python 3",
   "language": "python",
   "name": "python3"
  },
  "language_info": {
   "codemirror_mode": {
    "name": "ipython",
    "version": 3
   },
   "file_extension": ".py",
   "mimetype": "text/x-python",
   "name": "python",
   "nbconvert_exporter": "python",
   "pygments_lexer": "ipython3",
   "version": "3.7.5"
  },
  "widgets": {
   "application/vnd.jupyter.widget-state+json": {
    "state": {},
    "version_major": 2,
    "version_minor": 0
   }
  }
 },
 "nbformat": 4,
 "nbformat_minor": 4
}
