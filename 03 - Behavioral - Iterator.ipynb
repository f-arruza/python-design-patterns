{
 "cells": [
  {
   "cell_type": "code",
   "execution_count": null,
   "metadata": {},
   "outputs": [],
   "source": [
    "from collections.abc import Iterable, Iterator\n",
    "from typing import Any, List\n",
    "\n",
    "\n",
    "class AlphabeticalOrderIterator(Iterator):\n",
    "    _position: int = None\n",
    "    _reverse: bool = False\n",
    "\n",
    "    def __init__(self, collection: WordsCollection, reverse: bool = False) -> None:\n",
    "        self._collection = collection\n",
    "        self._reverse = reverse\n",
    "        self._position = -1 if reverse else 0\n",
    "\n",
    "    def __next__(self):\n",
    "        try:\n",
    "            value = self._collection[self._position]\n",
    "            self._position += -1 if self._reverse else 1\n",
    "        except IndexError:\n",
    "            raise StopIteration()\n",
    "\n",
    "        return value\n",
    "\n",
    "\n",
    "class WordsCollection(Iterable):\n",
    "    def __init__(self, collection: List[Any] = []) -> None:\n",
    "        self._collection = collection\n",
    "\n",
    "    def __iter__(self) -> AlphabeticalOrderIterator:\n",
    "        return AlphabeticalOrderIterator(self._collection)\n",
    "\n",
    "    def get_reverse_iterator(self) -> AlphabeticalOrderIterator:\n",
    "        return AlphabeticalOrderIterator(self._collection, True)\n",
    "\n",
    "    def add_item(self, item: Any):\n",
    "        self._collection.append(item)\n",
    "\n",
    "\n",
    "if __name__ == \"__main__\":\n",
    "    collection = WordsCollection()\n",
    "    collection.add_item(\"First\")\n",
    "    collection.add_item(\"Second\")\n",
    "    collection.add_item(\"Third\")\n",
    "\n",
    "    print(\"Straight traversal:\")\n",
    "    print(\"\\n\".join(collection))\n",
    "    print(\"\")\n",
    "\n",
    "    print(\"Reverse traversal:\")\n",
    "    print(\"\\n\".join(collection.get_reverse_iterator()), end=\"\")\n"
   ]
  }
 ],
 "metadata": {
  "kernelspec": {
   "display_name": "Python 3",
   "language": "python",
   "name": "python3"
  },
  "language_info": {
   "codemirror_mode": {
    "name": "ipython",
    "version": 3
   },
   "file_extension": ".py",
   "mimetype": "text/x-python",
   "name": "python",
   "nbconvert_exporter": "python",
   "pygments_lexer": "ipython3",
   "version": "3.7.5"
  }
 },
 "nbformat": 4,
 "nbformat_minor": 4
}
