{
 "cells": [
  {
   "cell_type": "code",
   "execution_count": null,
   "metadata": {},
   "outputs": [],
   "source": [
    "class Component():\n",
    "    def operation(self) -> str:\n",
    "        pass\n",
    "\n",
    "\n",
    "class ConcreteComponent(Component):\n",
    "    def operation(self) -> str:\n",
    "        return \"ConcreteComponent\"\n",
    "\n",
    "\n",
    "class Decorator(Component):\n",
    "    _component: Component = None\n",
    "\n",
    "    def __init__(self, component: Component) -> None:\n",
    "        self._component = component\n",
    "\n",
    "    @property\n",
    "    def component(self) -> str:\n",
    "        return self._component\n",
    "\n",
    "    def operation(self) -> str:\n",
    "        return self._component.operation()\n",
    "\n",
    "\n",
    "class ConcreteDecoratorA(Decorator):\n",
    "    def operation(self) -> str:\n",
    "        prev_op = \"ConcreteDecoratorA(\"\n",
    "        mid_op = self.component.operation()\n",
    "        next_op = \")\"\n",
    "        return prev_op + mid_op + next_op\n",
    "\n",
    "\n",
    "class ConcreteDecoratorB(Decorator):\n",
    "    def operation(self) -> str:\n",
    "        prev_op = \"ConcreteDecoratorB(\"\n",
    "        mid_op = self.component.operation()\n",
    "        next_op = \")\"\n",
    "        return prev_op + mid_op + next_op\n",
    "\n",
    "\n",
    "if __name__ == \"__main__\":\n",
    "    simple = ConcreteComponent()\n",
    "    print(\"Client: I've got a simple component:\")\n",
    "    print(f\"RESULT: {simple}\")\n",
    "    print(\"\\n\")\n",
    "\n",
    "    decorator1 = ConcreteDecoratorA(simple)\n",
    "    decorator2 = ConcreteDecoratorB(decorator1)\n",
    "    print(\"Client: Now I've got a decorated component:\")\n",
    "    print(f\"RESULT: {decorator2.operation()}\")\n"
   ]
  },
  {
   "cell_type": "code",
   "execution_count": null,
   "metadata": {},
   "outputs": [],
   "source": []
  }
 ],
 "metadata": {
  "kernelspec": {
   "display_name": "Python 3",
   "language": "python",
   "name": "python3"
  },
  "language_info": {
   "codemirror_mode": {
    "name": "ipython",
    "version": 3
   },
   "file_extension": ".py",
   "mimetype": "text/x-python",
   "name": "python",
   "nbconvert_exporter": "python",
   "pygments_lexer": "ipython3",
   "version": "3.7.5"
  }
 },
 "nbformat": 4,
 "nbformat_minor": 4
}
